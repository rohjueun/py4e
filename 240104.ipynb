{
  "nbformat": 4,
  "nbformat_minor": 0,
  "metadata": {
    "colab": {
      "provenance": [],
      "authorship_tag": "ABX9TyML+LZtVrYwWTsbDoneSDuQ",
      "include_colab_link": true
    },
    "kernelspec": {
      "name": "python3",
      "display_name": "Python 3"
    },
    "language_info": {
      "name": "python"
    }
  },
  "cells": [
    {
      "cell_type": "markdown",
      "metadata": {
        "id": "view-in-github",
        "colab_type": "text"
      },
      "source": [
        "<a href=\"https://colab.research.google.com/github/rohjueun/py4e/blob/main/240104.ipynb\" target=\"_parent\"><img src=\"https://colab.research.google.com/assets/colab-badge.svg\" alt=\"Open In Colab\"/></a>"
      ]
    },
    {
      "cell_type": "code",
      "execution_count": 2,
      "metadata": {
        "colab": {
          "base_uri": "https://localhost:8080/"
        },
        "id": "39rODggXfY-h",
        "outputId": "bd256aab-e3a5-4706-9c41-3ae72ed1904b"
      },
      "outputs": [
        {
          "output_type": "stream",
          "name": "stdout",
          "text": [
            "학생의 점수를 입력하세요:90\n",
            "학생의 점수를 입력하세요:70\n",
            "학생의 점수를 입력하세요:30\n",
            "학생의 점수를 입력하세요:x\n",
            "입력 데이터 출력: [90, 70, 30]\n",
            "합계 190\n",
            "인원 수 3\n",
            "평균63.333\n"
          ]
        }
      ],
      "source": [
        "#1 두 가지 방버으로 풀었습니다.\n",
        "score = []\n",
        "while True:\n",
        "    num = input(\"학생의 점수를 입력하세요:\")\n",
        "    if num.isdigit():\n",
        "        num  = int(num)\n",
        "        score.append(num)\n",
        "    else:\n",
        "        break  # 입력 종료\n",
        "print(\"입력 데이터 출력:\",score)\n",
        "print('합계',sum(score))\n",
        "print('인원 수', len(score))\n",
        "print(f'평균{sum(score)/len(score):.3f}')"
      ]
    },
    {
      "cell_type": "code",
      "source": [
        "#2\n",
        "score = []\n",
        "while True:\n",
        "    num = input(\"학생의 점수를 입력하세요: \")\n",
        "    try:\n",
        "        num = int(num)  # 입력값을 정수로 변환\n",
        "        score.append(num)\n",
        "    except ValueError:\n",
        "        break  # 입력 종료\n",
        "print(\"입력 데이터 출력:\",score)\n",
        "print('합계',sum(score))\n",
        "print('인원 수', len(score))\n",
        "print(f'평균 {sum(score)/len(score):.3f}')"
      ],
      "metadata": {
        "colab": {
          "base_uri": "https://localhost:8080/"
        },
        "id": "8SCGKhwRfqVY",
        "outputId": "f56af540-6279-4c79-dbd1-06a93dd3dd84"
      },
      "execution_count": 4,
      "outputs": [
        {
          "output_type": "stream",
          "name": "stdout",
          "text": [
            "학생의 점수를 입력하세요: 90\n",
            "학생의 점수를 입력하세요: 70\n",
            "학생의 점수를 입력하세요: 30\n",
            "학생의 점수를 입력하세요: x\n",
            "입력 데이터 출력: [90, 70, 30]\n",
            "합계 190\n",
            "인원 수 3\n",
            "평균 63.333\n"
          ]
        }
      ]
    },
    {
      "cell_type": "code",
      "source": [
        "30x"
      ],
      "metadata": {
        "id": "G8QXttLyftIU"
      },
      "execution_count": null,
      "outputs": []
    }
  ]
}